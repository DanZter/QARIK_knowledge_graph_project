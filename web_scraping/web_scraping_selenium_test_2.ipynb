from selenium import webdriver
from selenium.webdriver.common.keys import Keys
from selenium.webdriver.common.by import By
from selenium.webdriver.support.ui import WebDriverWait
from selenium.webdriver.support import expected_conditions as EC
import time

PATH = r'C:/Program Files (x86)/chromedriver.exe'

driver = webdriver.Chrome(executable_path='./chromedriver.exe')

driver.get("http://aims.niassembly.gov.uk/officialreport/reports.aspx")

# link = driver.find_element_by_link_text("View")
# link.click()

try:
    element = WebDriverWait(driver, 10).until(
        EC.presence_of_element_located((By.ID, "ctl00_MainContentPlaceHolder_OfficialReportsGridView_ctl02_HTMLViewButton2"))
    )
    element.click()
    element = WebDriverWait(driver, 10).until(
        EC.presence_of_element_located((By.LINK_TEXT, "Mr Deputy Speaker (Mr Beggs):"))
    )
    element.click()
except:
    driver.quit()
# driver.quit()